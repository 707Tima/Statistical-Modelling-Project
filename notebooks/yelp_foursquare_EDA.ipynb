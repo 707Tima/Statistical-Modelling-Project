{
 "cells": [
  {
   "cell_type": "code",
   "execution_count": null,
   "metadata": {},
   "outputs": [],
   "source": [
    "# imports"
   ]
  },
  {
   "cell_type": "markdown",
   "metadata": {},
   "source": [
    "# Foursquare"
   ]
  },
  {
   "cell_type": "markdown",
   "metadata": {},
   "source": [
    "Send a request to Foursquare with a small radius (1000m) for all the bike stations in your city of choice. "
   ]
  },
  {
   "cell_type": "code",
   "execution_count": null,
   "metadata": {},
   "outputs": [],
   "source": [
    "# I explored Foursquare website. I have registered and obtained API KEY. I created Environment Variable in my System, \n",
    "# to avoid using actual KEY in my function. I have found that in Foursquare website you can set parameters, choose language and get\n",
    "# code. There are 2 different options https://location.foursquare.com/developer/reference/place-search & \n",
    "# https://location.foursquare.com/developer/recipes/place-search-using-latlong. I chose 2nd option (shown below).\n",
    "# I decided to check Bars near one of the Bike stations. I set radius as 1000 meters. \n",
    "\n",
    "import requests\n",
    "import os\n",
    "api_key = os.environ[\"FOURSQUARE_API_KEY\"]\n",
    "url = \"https://api.foursquare.com/v3/places/search\"\n",
    "\n",
    "params = {\n",
    "  \t\"query\": \"bar\",\n",
    "  \t\"ll\": \"43.2391,76.9492\", \n",
    "    \"radius\": \"1000\"\n",
    "  \t}\n",
    "\n",
    "headers = {\n",
    "    \"Accept\": \"application/json\",\n",
    "    \"Authorization\": os.environ[\"FOURSQUARE_API_KEY\"]\n",
    "}\n",
    "\n",
    "response = requests.request(\"GET\", url, params=params, headers=headers)\n",
    "\n",
    "print(response.text)"
   ]
  },
  {
   "cell_type": "markdown",
   "metadata": {},
   "source": [
    "Parse through the response to get the POI (such as restaurants, bars, etc) details you want (ratings, name, location, etc)"
   ]
  },
  {
   "cell_type": "code",
   "execution_count": null,
   "metadata": {},
   "outputs": [],
   "source": [
    "# The result of the Above request shows all the details of bars in that location"
   ]
  },
  {
   "cell_type": "markdown",
   "metadata": {},
   "source": [
    "Put your parsed results into a DataFrame"
   ]
  },
  {
   "cell_type": "code",
   "execution_count": null,
   "metadata": {},
   "outputs": [],
   "source": [
    "# The below function includes DataFrame\n",
    "\n",
    "def get_foursquare_data():\n",
    "    url = \"https://api.foursquare.com/v3/places/search\"\n",
    "\n",
    "    params = {\n",
    "        \"query\": \"bar\",\n",
    "        \"ll\": \"43.2391,76.9492\", \n",
    "        \"radius\": \"1000\"\n",
    "    }\n",
    "\n",
    "    headers = {\n",
    "        \"Accept\": \"application/json\",\n",
    "        \"Authorization\": os.environ[\"FOURSQUARE_API_KEY\"]\n",
    "    }\n",
    "\n",
    "    response = requests.get(url, params=params, headers=headers)\n",
    "\n",
    "    if response.status_code == 200:\n",
    "        data = response.json()\n",
    "        return data\n",
    "    else:\n",
    "        print(f\"Failed to fetch Foursquare data. Status code: {response.status_code}\")\n",
    "        return None\n",
    "    # then we need to make sure that \"Response\" giving us [200], if not, then \"status_code\" or ERROR\n",
    "    \n",
    "def dataframe_foursquare_data(foursquare_data):\n",
    "    if foursquare_data is None:\n",
    "        return None\n",
    "\n",
    "    businesses = foursquare_data.get(\"results\", [])\n",
    "\n",
    "    if not businesses:\n",
    "        print(\"No businesses found.\")\n",
    "        return None\n",
    "    \n",
    "    extracted_data = []\n",
    "    for business in businesses: # Here we can choose all the information to be displayed\n",
    "        business_data = {\n",
    "            \"Name\": business.get(\"name\", \"\"),\n",
    "            \"Categories\": \", \".join(category.get(\"name\", \"\") for category in business.get(\"categories\", [])),\n",
    "            \"Distance\": business.get(\"distance\", \"\"),\n",
    "            \"Latitude\": business.get(\"geocodes\", {}).get(\"main\", {}).get(\"latitude\", \"\"),\n",
    "            \"Longitude\": business.get(\"geocodes\", {}).get(\"main\", {}).get(\"longitude\", \"\"),\n",
    "            \"Address\": business.get(\"location\", {}).get(\"formatted_address\", \"\"),\n",
    "            \"Region\": business.get(\"location\", {}).get(\"region\", \"\"),\n",
    "            \"Country\": business.get(\"location\", {}).get(\"country\", \"\"),\n",
    "            \"Cross_Street\": business.get(\"location\", {}).get(\"cross_street\", \"\"),\n",
    "            \"Link\": business.get(\"link\", \"\"),\n",
    "            \"Timezone\": business.get(\"timezone\", \"\")\n",
    "        }\n",
    "        extracted_data.append(business_data)\n",
    "\n",
    "    # Convert the extracted data to a DataFrame\n",
    "    df = pd.DataFrame.from_dict(extracted_data)\n",
    "    return df\n",
    "\n",
    "if __name__ == \"__main__\":\n",
    "    foursquare_data = get_foursquare_data()\n",
    "    if foursquare_data is not None:\n",
    "        df = dataframe_foursquare_data(foursquare_data)\n",
    "        print(df)"
   ]
  },
  {
   "cell_type": "markdown",
   "metadata": {},
   "source": [
    "# Yelp"
   ]
  },
  {
   "cell_type": "markdown",
   "metadata": {},
   "source": [
    "Send a request to Yelp with a small radius (1000m) for all the bike stations in your city of choice. "
   ]
  },
  {
   "cell_type": "code",
   "execution_count": null,
   "metadata": {},
   "outputs": [],
   "source": [
    "# The same approach I used in YELP website. I have registered and obtained API KEY. I created Environment Variable in my System, \n",
    "# to avoid using actual KEY in my function.\n",
    "\n",
    "import requests\n",
    "import os\n",
    "api_key = os.environ[\"YELP_API_KEY\"]\n",
    "url = \"https://api.yelp.com/v3/businesses/search?latitude=43.2391&longitude=76.9492&term=bar&radius=1000\"\n",
    "\n",
    "headers = {\n",
    "    \"accept\": \"application/json\",\n",
    "    \"Authorization\": os.environ[\"YELP_API_KEY\"]\n",
    "    \n",
    "\n",
    "response = requests.get(url, headers=headers)\n",
    "\n",
    "print(response.text)"
   ]
  },
  {
   "cell_type": "markdown",
   "metadata": {},
   "source": [
    "Parse through the response to get the POI (such as restaurants, bars, etc) details you want (ratings, name, location, etc)"
   ]
  },
  {
   "cell_type": "code",
   "execution_count": null,
   "metadata": {},
   "outputs": [],
   "source": [
    "# Unfortunately, the Yelp Api has no information the location I chose and checked with Foursquare API. "
   ]
  },
  {
   "cell_type": "markdown",
   "metadata": {},
   "source": [
    "Put your parsed results into a DataFrame"
   ]
  },
  {
   "cell_type": "code",
   "execution_count": null,
   "metadata": {},
   "outputs": [],
   "source": [
    "# Even the Yelp API did not provide me any information for the chosen location, I wrote the below function with DataFrame, \n",
    "# so it can be used for another location, where Yelp API has information. \n",
    "\n",
    "import requests\n",
    "import pandas as pd\n",
    "import os\n",
    "\n",
    "def get_yelp_data():\n",
    "    url = \"https://api.yelp.com/v3/businesses/search\"\n",
    "    \n",
    "    # Replace \"<YOUR_YELP_ACCESS_TOKEN>\" with your actual Yelp access token\n",
    "    headers = {\n",
    "        \"accept\": \"application/json\",\n",
    "        \"Authorization\": os.environ[\"YELP_API_KEY\"]\n",
    "    }\n",
    "    \n",
    "    params = {\n",
    "        \"latitude\": 43.2391,\n",
    "        \"longitude\": 76.9492,\n",
    "        \"term\": \"bar\",\n",
    "        \"radius\": 1000\n",
    "    }\n",
    "\n",
    "    response = requests.get(url, params=params, headers=headers)\n",
    "\n",
    "    if response.status_code == 200:\n",
    "        data = response.json()\n",
    "          \n",
    "        return data\n",
    "    else:\n",
    "        print(f\"Failed to fetch Yelp data. Status code: {response.status_code}\")\n",
    "        return None\n",
    "\n",
    "def create_dataframe_from_yelp_data(yelp_data):\n",
    "    if yelp_data is None:\n",
    "        return None\n",
    "\n",
    "    bars = yelp_data.get(\"bar\", [])\n",
    "    \n",
    "    if not bars:\n",
    "        print(\"No bars found.\")\n",
    "        return None\n",
    "\n",
    "    # Extract the relevant information from each business\n",
    "    extracted_data = []\n",
    "    for bar in bars:\n",
    "        bars_data = {\n",
    "            \"Name\": bars.get(\"name\", \"\"),\n",
    "            \"Rating\": bars.get(\"rating\", \"\"),\n",
    "            \"Price\": bars.get(\"price\", \"\"),\n",
    "            \"Location\": bars.get(\"location\", {}).get(\"address1\", \"\"),\n",
    "            \"Phone\": bars.get(\"phone\", \"\")\n",
    "        }\n",
    "        extracted_data.append(bar_data)\n",
    "\n",
    "    # Convert the extracted data to a DataFrame\n",
    "    df = pd.DataFrame.from_dict(extracted_data)\n",
    "    return df\n",
    "\n",
    "if __name__ == \"__main__\":\n",
    "    yelp_data = get_yelp_data()\n",
    "    if yelp_data is not None:\n",
    "        df = create_dataframe_from_yelp_data(yelp_data)\n",
    "        print(df)"
   ]
  },
  {
   "cell_type": "markdown",
   "metadata": {},
   "source": [
    "# Comparing Results"
   ]
  },
  {
   "cell_type": "markdown",
   "metadata": {},
   "source": [
    "Which API provided you with more complete data? Provide an explanation. "
   ]
  },
  {
   "cell_type": "markdown",
   "metadata": {},
   "source": [
    "<!-- As I already mentioned earlier, the Yelp API did not find any POIs in Almaty. \n",
    "Foursquare API, on other hand, found a big number of bars and restaurants in Almaty and at the exact location, when I provided latitude/longitude. I could get information like \"Name\", \"Categories\", \"Address\" and even I could give limitation of radius = 1000 meters. -->\n"
   ]
  },
  {
   "cell_type": "markdown",
   "metadata": {},
   "source": [
    "Get the top 10 restaurants according to their rating"
   ]
  },
  {
   "cell_type": "code",
   "execution_count": null,
   "metadata": {},
   "outputs": [],
   "source": [
    "# Since Yelp did not provide any results to me, I checked ratings in Foursquare and found that Rating information is missing.\n",
    "\n",
    "def get_foursquare_data():\n",
    "    url = \"https://api.foursquare.com/v3/places/search\"\n",
    "\n",
    "    params = {\n",
    "        \"query\": \"bar\",\n",
    "        \"ll\": \"43.2391,76.9492\", \n",
    "        \"radius\": \"1000\"\n",
    "    }\n",
    "\n",
    "    headers = {\n",
    "        \"Accept\": \"application/json\",\n",
    "        \"Authorization\": os.environ[\"FOURSQUARE_API_KEY\"]\n",
    "    }\n",
    "\n",
    "    response = requests.get(url, params=params, headers=headers)\n",
    "\n",
    "    if response.status_code == 200:\n",
    "        data = response.json()\n",
    "        return data\n",
    "    else:\n",
    "        print(f\"Failed to fetch Foursquare data. Status code: {response.status_code}\")\n",
    "        return None\n",
    "    \n",
    "def dataframe_foursquare_data(foursquare_data):\n",
    "    if foursquare_data is None:\n",
    "        return None\n",
    "\n",
    "    businesses = foursquare_data.get(\"results\", [])\n",
    "\n",
    "    if not businesses:\n",
    "        print(\"No businesses found.\")\n",
    "        return None\n",
    "    \n",
    "    extracted_data = []\n",
    "    for business in businesses:\n",
    "        rating_data = business.get(\"rating\", None)\n",
    "        business_data = {\n",
    "            \"Name\": business.get(\"name\", \"\"),\n",
    "            \"Categories\": \", \".join(category.get(\"name\", \"\") for category in business.get(\"categories\", [])),\n",
    "            \"Rating\": rating_data if rating_data is not None else \"N/A\",  # Adding the rating or \"N/A\" if not available\n",
    "        }\n",
    "        extracted_data.append(business_data)\n",
    "\n",
    "    # Convert the extracted data to a DataFrame\n",
    "    df = pd.DataFrame.from_dict(extracted_data)\n",
    "    return df\n",
    "\n",
    "if __name__ == \"__main__\":\n",
    "    foursquare_data = get_foursquare_data()\n",
    "    if foursquare_data is not None:\n",
    "        df = dataframe_foursquare_data(foursquare_data)\n",
    "        print(df)"
   ]
  }
 ],
 "metadata": {
  "kernelspec": {
   "display_name": "Python 3 (ipykernel)",
   "language": "python",
   "name": "python3"
  },
  "language_info": {
   "codemirror_mode": {
    "name": "ipython",
    "version": 3
   },
   "file_extension": ".py",
   "mimetype": "text/x-python",
   "name": "python",
   "nbconvert_exporter": "python",
   "pygments_lexer": "ipython3",
   "version": "3.11.3"
  }
 },
 "nbformat": 4,
 "nbformat_minor": 4
}
