{
 "cells": [
  {
   "cell_type": "markdown",
   "metadata": {},
   "source": [
    "# CityBikes"
   ]
  },
  {
   "cell_type": "markdown",
   "metadata": {},
   "source": [
    "Send a request to CityBikes for the city of your choice. "
   ]
  },
  {
   "cell_type": "code",
   "execution_count": null,
   "metadata": {},
   "outputs": [],
   "source": [
    "# I started with checking the Citybikes web site. Then I searched in Google \"Citybikes API\"\n",
    "# to explore \"CityBikes API Documentation\" and got link \"http://api.citybik.es/v2/\"\n",
    "# In \"CityBikes API Documentation\" I checked for endpoints and found \"networks\" endpoint\n",
    "# Then I checked the \"http://api.citybik.es/v2/networks\" and found all the information\n",
    "# including countries and cities where Citybikes operates. \n",
    "# The next step was choosing city and I picked Almaty, the city fom Kazakhstan. Almaty is the city\n",
    "# I was born :). I found city ID, which is \"almatybike\". \n",
    "# Next step was to create function in Python, I did it by using JupiterLab\n",
    "# In \"CityBikes API Documentation\" I found that the system supports only JSON.\n",
    "# To access the JSON data, I used the requests library to make HTTP requests \n",
    "\n",
    "import requests\n",
    "\n",
    "# then I created function \"get_bike_data_for_city\" \n",
    "\n",
    "def get_bike_data_for_city(city_id):\n",
    "    url = f\"https://api.citybik.es/v2/networks/{city_id}\" #instead of my picked city ID, I used {city_id}, so I ccould use my function for any city\n",
    "\n",
    "    try:\n",
    "        response = requests.get(url)\n",
    "\n",
    "        if response.status_code == 200:\n",
    "            data = response.json()\n",
    "            return data\n",
    "\n",
    "        else:\n",
    "            print(f\"Failed to fetch data. Status code: {response.status_code}\")\n",
    "\n",
    "            # then we need to make sure that \"Response\" giving us [200], if not, then \"status_code\" or ERROR\n",
    "            \n",
    "    except requests.exceptions.RequestException as e:\n",
    "        print(f\"Error occurred: {e}\")\n",
    "\n",
    "if __name__ == \"__main__\":\n",
    "    # we can replace 'YOUR_CITY_ID' with the city ID of our chosen city\n",
    "    city_id = \"YOUR_CITY_ID\"\n",
    "    city_bike_data = get_bike_data_for_city(city_id)\n",
    "    print(city_bike_data)\n",
    "# Now we get all information about stations in Almaty city"
   ]
  },
  {
   "cell_type": "markdown",
   "metadata": {},
   "source": [
    "Parse through the response to get the details you want for the bike stations in that city (latitude, longitude, number of bikes). "
   ]
  },
  {
   "cell_type": "code",
   "execution_count": null,
   "metadata": {},
   "outputs": [],
   "source": [
    "# The next exercise was to create function giving us information about\n",
    "# name of the station, latitude, longitude and available bikes\n",
    "\n",
    "import requests\n",
    "import json\n",
    "\n",
    "def get_bike_stations(city):\n",
    "    url = f\"https://api.citybik.es/v2/networks/{city}\"\n",
    "\n",
    "    try:\n",
    "        response = requests.get(url)\n",
    "\n",
    "        if response.status_code == 200:\n",
    "            data = response.json()\n",
    "\n",
    "            # Extract station details\n",
    "            stations = data['network']['stations']\n",
    "\n",
    "            # Create a list to store station information\n",
    "            for station in stations:\n",
    "                station_name = station['name']\n",
    "                latitude = station['latitude']\n",
    "                longitude = station['longitude']\n",
    "                num_bikes = station['free_bikes']\n",
    "\n",
    "                print(f\"Station Name: {station_name}\")\n",
    "                print(f\"Latitude: {latitude}\")\n",
    "                print(f\"Longitude: {longitude}\")\n",
    "                print(f\"Number of Available Bikes: {num_bikes}\")\n",
    "                print()\n",
    "\n",
    "        else:\n",
    "            print(f\"Failed to fetch data. Status code: {response.status_code}\")\n",
    "\n",
    "    except requests.exceptions.RequestException as e:\n",
    "        print(f\"Error occurred: {e}\")\n",
    "\n",
    "if __name__ == \"__main__\":\n",
    "    city_id = \"almatybike\" # we can replace 'city_id' with the city ID of our chosen city\n",
    "    get_bike_stations(city_id)\n",
    "# The result shows us information about all stations in Almaty"
   ]
  },
  {
   "cell_type": "markdown",
   "metadata": {},
   "source": [
    "Put your parsed results into a DataFrame."
   ]
  },
  {
   "cell_type": "code",
   "execution_count": null,
   "metadata": {},
   "outputs": [],
   "source": [
    "# The last exercise of the Part_1 was to parse the JSON object into a Pandas dataframe\n",
    "\n",
    "import requests\n",
    "import pandas as pd\n",
    "\n",
    "def get_bike_stations(city):\n",
    "    url = f\"https://api.citybik.es/v2/networks/{city}\"\n",
    "\n",
    "    try:\n",
    "        response = requests.get(url)\n",
    "\n",
    "        if response.status_code == 200:\n",
    "            data = response.json()\n",
    "\n",
    "            # Extract station details\n",
    "            stations = data['network']['stations']\n",
    "\n",
    "            # Create a list to store station information\n",
    "            station_data = []\n",
    "            for station in stations:\n",
    "                station_name = station['name']\n",
    "                latitude = station['latitude']\n",
    "                longitude = station['longitude']\n",
    "                num_bikes = station['free_bikes']\n",
    "\n",
    "                # Append station information to the list\n",
    "                station_data.append({\n",
    "                    'Station Name': station_name,\n",
    "                    'Latitude': latitude,\n",
    "                    'Longitude': longitude,\n",
    "                    'Available Bikes': num_bikes\n",
    "                })\n",
    "\n",
    "            # Create a DataFrame from the station data list\n",
    "            df = pd.DataFrame(station_data)\n",
    "\n",
    "            return df\n",
    "\n",
    "        else:\n",
    "            print(f\"Failed to fetch data. Status code: {response.status_code}\")\n",
    "\n",
    "    except requests.exceptions.RequestException as e:\n",
    "        print(f\"Error occurred: {e}\")\n",
    "\n",
    "if __name__ == \"__main__\":\n",
    "    city_id = \"almatybike\"\n",
    "    bike_stations_df = get_bike_stations(city_id)\n",
    "    print(bike_stations_df)\n",
    "\n",
    "# The result shows us the table with 179 rows x 4 columns (Station Name','Latitude','Longitude' and 'Available Bikes'. "
   ]
  }
 ],
 "metadata": {
  "kernelspec": {
   "display_name": "Python 3 (ipykernel)",
   "language": "python",
   "name": "python3"
  },
  "language_info": {
   "codemirror_mode": {
    "name": "ipython",
    "version": 3
   },
   "file_extension": ".py",
   "mimetype": "text/x-python",
   "name": "python",
   "nbconvert_exporter": "python",
   "pygments_lexer": "ipython3",
   "version": "3.11.3"
  }
 },
 "nbformat": 4,
 "nbformat_minor": 4
}
