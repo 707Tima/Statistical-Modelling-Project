{
 "cells": [
  {
   "cell_type": "markdown",
   "metadata": {},
   "source": [
    "Build a regression model."
   ]
  },
  {
   "cell_type": "code",
   "execution_count": null,
   "metadata": {},
   "outputs": [],
   "source": [
    "import sqlite3\n",
    "import pandas as pd\n",
    "from sklearn.model_selection import train_test_split\n",
    "from sklearn.linear_model import LinearRegression\n",
    "from sklearn.metrics import mean_squared_error, r2_score\n",
    "\n",
    "# Define the path to the SQLite database file\n",
    "db_file = 'D:/courses/Lighthouse/Course/Project_2/my_database.db'\n",
    "\n",
    "# Create a connection to the database\n",
    "conn = sqlite3.connect(db_file)\n",
    "\n",
    "# Query the data from the database into a DataFrame\n",
    "query = \"SELECT * FROM bike_stations\"\n",
    "df = pd.read_sql_query(query, conn)\n",
    "\n",
    "# Close the database connection\n",
    "conn.close()\n",
    "\n",
    "# Split the dataset into training and testing sets\n",
    "X = df[['Latitude', 'Longitude', 'Available Bikes']]\n",
    "y = df['Available Bikes']  \n",
    "X_train, X_test, y_train, y_test = train_test_split(X, y, test_size=0.2, random_state=42)\n",
    "\n",
    "# Initialize the linear regression model\n",
    "model = LinearRegression()\n",
    "\n",
    "# Train the model on the training data\n",
    "model.fit(X_train, y_train)\n",
    "\n",
    "# Make predictions on the test data\n",
    "y_pred = model.predict(X_test)\n",
    "\n",
    "# Evaluate the model\n",
    "mse = mean_squared_error(y_test, y_pred)\n",
    "r2 = r2_score(y_test, y_pred)\n",
    "\n",
    "print(\"Mean Squared Error:\", mse)\n",
    "print(\"R-squared:\", r2)\n",
    "\n",
    "# Print the coefficients and intercept of the model\n",
    "print(\"Coefficients:\", model.coef_)\n",
    "print(\"Intercept:\", model.intercept_)"
   ]
  },
  {
   "cell_type": "markdown",
   "metadata": {},
   "source": [
    "Provide model output and an interpretation of the results. "
   ]
  },
  {
   "cell_type": "code",
   "execution_count": null,
   "metadata": {},
   "outputs": [],
   "source": [
    "# Based on the provided results, it seems that your regression model has achieved a perfect fit to the data, \n",
    "# resulting in an R-squared value of 1.0, which indicates that the model perfectly explains the variance in the \n",
    "# target variable. The mean squared error (MSE) is extremely close to zero, which further indicates that the model's predictions\n",
    "# are almost identical to the actual target values.\n",
    "\n",
    "# The coefficients of the model are very close to zero, and the intercept is also very close to zero. This suggests that\n",
    "# the model has found an exact relationship between the features and the target variable in the data.\n"
   ]
  },
  {
   "cell_type": "markdown",
   "metadata": {},
   "source": [
    "# Stretch"
   ]
  },
  {
   "cell_type": "markdown",
   "metadata": {},
   "source": [
    "How can you turn the regression model into a classification model?"
   ]
  },
  {
   "cell_type": "code",
   "execution_count": null,
   "metadata": {},
   "outputs": [],
   "source": [
    "# To turn a regression model into a classification model, you need to transform the continuous target variable \n",
    "# into discrete classes or categories. This process is known as \"binning\" or \"bucketing\" the target variable. \n",
    "# The goal is to convert the regression problem into a classification problem, where the model predicts the \n",
    "# category or class to which each data point belongs."
   ]
  }
 ],
 "metadata": {
  "kernelspec": {
   "display_name": "Python 3 (ipykernel)",
   "language": "python",
   "name": "python3"
  },
  "language_info": {
   "codemirror_mode": {
    "name": "ipython",
    "version": 3
   },
   "file_extension": ".py",
   "mimetype": "text/x-python",
   "name": "python",
   "nbconvert_exporter": "python",
   "pygments_lexer": "ipython3",
   "version": "3.11.3"
  }
 },
 "nbformat": 4,
 "nbformat_minor": 4
}
